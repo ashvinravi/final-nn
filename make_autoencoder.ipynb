{
 "cells": [
  {
   "cell_type": "code",
   "execution_count": 2,
   "id": "44ead008",
   "metadata": {},
   "outputs": [],
   "source": [
    "import numpy as np\n",
    "import nn\n",
    "from sklearn.datasets import load_digits\n",
    "from sklearn.model_selection import train_test_split\n",
    "import pandas as pd\n",
    "from sklearn.preprocessing import MinMaxScaler\n",
    "from matplotlib.pyplot import plot\n",
    "from nn import io, preprocess"
   ]
  },
  {
   "cell_type": "markdown",
   "id": "fb744c20",
   "metadata": {},
   "source": [
    "**Ashvin Ravi \\\n",
    "March 18, 2024 \\\n",
    "BMI 203**"
   ]
  },
  {
   "cell_type": "markdown",
   "id": "6373ff26",
   "metadata": {},
   "source": [
    "# Final Project NN "
   ]
  },
  {
   "cell_type": "markdown",
   "id": "a417a69b",
   "metadata": {},
   "source": [
    "## Part 1: Digits Autoencoder"
   ]
  },
  {
   "cell_type": "markdown",
   "id": "ea37a9d3",
   "metadata": {},
   "source": [
    "### Instructions (copied from GitHub)\n",
    "**Background** \\\n",
    "An autoencoder is a neural network that takes an input, encodes it into a lower-dimensional latent space through \"encoding\" layers, and then attempts to reconstruct the original input using \"decoding\" layers. Autoencoders are often used for dimensionality reduction.\n",
    "\n",
    "**Your task** \\\n",
    "You will train a 64x16x64 autoencoder on the digits dataset. All of the following work should be done in a Jupyter Notebook.\n",
    "\n",
    "**To-do** \\\n",
    "Load the digits dataset through sklearn using sklearn.datasets.load_digits().\n",
    "Split the data into training and validation sets.\n",
    "Generate an instance of your NeuralNetwork class with a 64x16x64 autoencoder architecture.\n",
    "Train your autoencoder on the training data.\n",
    "Plot your training and validation loss by epoch.\n",
    "Quantify your average reconstruction error over the validation set.\n",
    "Explain why you chose the hyperparameter values you did."
   ]
  },
  {
   "cell_type": "markdown",
   "id": "513300e0",
   "metadata": {},
   "source": [
    "### Explanation: \n",
    "The gap between training and validation loss should be minimized. If the gap is large, it means that the model is overfitting the training data. Using a learning rate of 0.005 and epochs of 400, the loss seems to stay the same/plateaus after at least 200 iterations, meaning that 400 epochs would be more than enough. In addition, a higher learning rate (0.1) increases the gap between training and validation loss and introduces variation, where the loss is very variable/does not settle on a minimum. Therefore, I pick 400 epochs and lr=0.01 for my hyperparameters. \n",
    "\n",
    "Finally, using relu() as the activation function for both layers seems to be a much better choice as opposed to sigmoid. "
   ]
  },
  {
   "cell_type": "code",
   "execution_count": 76,
   "id": "773d95bb",
   "metadata": {},
   "outputs": [
    {
     "data": {
      "text/plain": [
       "[<matplotlib.lines.Line2D at 0x16da881d0>]"
      ]
     },
     "execution_count": 76,
     "metadata": {},
     "output_type": "execute_result"
    },
    {
     "data": {
      "image/png": "[encoded data removed]",
      "text/plain": [
       "<Figure size 640x480 with 1 Axes>"
      ]
     },
     "metadata": {},
     "output_type": "display_data"
    }
   ],
   "source": [
    "# Load the digits dataset\n",
    "digits = load_digits()\n",
    "\n",
    "# Normalize the data\n",
    "scaler = MinMaxScaler()\n",
    "X = scaler.fit_transform(digits.data)\n",
    "\n",
    "# Split the data into training and testing sets\n",
    "X_train, X_test, _, _ = train_test_split(X, X, test_size=0.2, random_state=42)\n",
    "\n",
    "# Define and train the autoencoder\n",
    "autoencoder = nn.NeuralNetwork(\n",
    "    nn_arch=[{'input_dim': 64, 'output_dim': 16, 'activation': '_relu'},\n",
    "             {'input_dim': 16, 'output_dim': 64, 'activation': '_relu'}],\n",
    "    lr=0.01,\n",
    "    seed=42,\n",
    "    batch_size=32,\n",
    "    epochs=400,\n",
    "    loss_function='_mean_squared_error'\n",
    ")\n",
    "\n",
    "per_epoch_loss_train, per_epoch_loss_validation = autoencoder.fit(X_train, X_train, X_test, X_test)\n",
    "\n",
    "loss_df = pd.DataFrame(per_epoch_loss_train)\n",
    "loss_df = loss_df.rename({0: 'loss_train'}, axis='columns')\n",
    "loss_df['loss_validation'] = per_epoch_loss_validation\n",
    "loss_df['epochs'] = loss_df.index + 1\n",
    "\n",
    "plot(loss_df['epochs'], loss_df['loss_train'])\n",
    "plot(loss_df['epochs'], loss_df['loss_validation'])"
   ]
  },
  {
   "cell_type": "markdown",
   "id": "0ca413ce",
   "metadata": {},
   "source": [
    "### Reconstruction Error\n",
    "\n",
    "For reconstruction error, I use the mean squared error to calculate the MSE of X_test (true images) vs. the reconstructed images (predict(X_test)). With the hyperparameters I tuned, this yields a reconstruction error/loss of about 0.017. "
   ]
  },
  {
   "cell_type": "code",
   "execution_count": 78,
   "id": "6359be25",
   "metadata": {},
   "outputs": [
    {
     "name": "stdout",
     "output_type": "stream",
     "text": [
      "Average Reconstruction Error: 0.016879728003062183\n"
     ]
    }
   ],
   "source": [
    "reconstructed_images = autoencoder.predict(X_test)\n",
    "\n",
    "reconstruction_errors = np.mean(np.square(X_test - reconstructed_images), axis=1)\n",
    "average_reconstruction_error = np.mean(reconstruction_errors)\n",
    "\n",
    "print(\"Average Reconstruction Error:\", average_reconstruction_error)"
   ]
  },
  {
   "cell_type": "markdown",
   "id": "8e8d467b",
   "metadata": {},
   "source": [
    "## Part 2: Train a Classifier for predicting DNA binding sites"
   ]
  },
  {
   "cell_type": "markdown",
   "id": "3523dd26",
   "metadata": {},
   "source": [
    "In this part, I train a classifier for predicting DNA binding sites in yeast using positive sequences that distinguish transcription factors, and negative sequences, where it is known that there are no transcription factors within these negative sequences. First, I read in the positive and negative sequences using the io methods. "
   ]
  },
  {
   "cell_type": "code",
   "execution_count": 15,
   "id": "3f6091c8",
   "metadata": {},
   "outputs": [],
   "source": [
    "positive = io.read_text_file('data/rap1-lieb-positives.txt')\n",
    "negative = io.read_fasta_file('data/yeast-upstream-1k-negative.fa')\n",
    "len(negative)\n",
    "equal_length_negative = []"
   ]
  },
  {
   "cell_type": "markdown",
   "id": "9a6faeee",
   "metadata": {},
   "source": [
    "Next, because the negative sequences are much longer than the positive sequences (1000 vs. 17), I split the negative sequences into substrings of length 17, and filter out sequences that don't have length 17 (since this would be inconsistent with the autoencoder architecture, plus we have a good amount of negative training examples/labels already. I also flatten the numpy array once I get 17 sequences for each instance. "
   ]
  },
  {
   "cell_type": "code",
   "execution_count": 16,
   "id": "60b75947",
   "metadata": {},
   "outputs": [],
   "source": [
    "for sequence in negative:\n",
    "    n = 17\n",
    "    equal_length = [sequence[i:i+n] for i in range(0, len(sequence), n)]\n",
    "    equal_length_negative.append(equal_length)\n",
    "\n",
    "\n",
    "negative_sequences = sum(equal_length_negative, [])\n",
    "negative_sequences = pd.DataFrame(negative_sequences)\n",
    "negative_sequences['negative'] = negative_sequences[0]\n",
    "negative_sequences = negative_sequences.drop(columns=0)\n",
    "\n",
    "negative_sequences = negative_sequences[negative_sequences.negative.apply(lambda x: len(str(x)) == 17)]"
   ]
  },
  {
   "cell_type": "markdown",
   "id": "a4d98d34",
   "metadata": {},
   "source": [
    "Because we have a huge class imbalance (~183,000 negative sequences vs. 137 positive sequences, we can balance our classes using the sample_seqs() method within preprocess. "
   ]
  },
  {
   "cell_type": "code",
   "execution_count": 17,
   "id": "11856463",
   "metadata": {},
   "outputs": [],
   "source": [
    "positive_sequences = pd.DataFrame(positive)\n",
    "positive_sequences['positive'] = positive_sequences[0]\n",
    "positive_sequences = positive_sequences.drop(columns=0)\n",
    "positive_sequences['labels'] = \"positive\"\n",
    "\n",
    "negative_sequences['labels'] = \"negative\"\n",
    "\n",
    "positive_sequences = positive_sequences.rename(columns={'positive': 'seq', 'labels': 'labels'})\n",
    "negative_sequences = negative_sequences.rename(columns={'negative': 'seq', 'labels': 'labels'})\n"
   ]
  },
  {
   "cell_type": "code",
   "execution_count": 18,
   "id": "b5e9a47d",
   "metadata": {},
   "outputs": [],
   "source": [
    "# Concatenate and then randomly shuffle the positive and negative sequences \n",
    "sequences = pd.concat([positive_sequences, negative_sequences], ignore_index=True)\n",
    "sequences = sequences.sample(frac = 1) # randomly permuted/reordered\n",
    "\n",
    "sequences.index = range(0, 183434, 1)"
   ]
  },
  {
   "cell_type": "code",
   "execution_count": 19,
   "id": "6bf30fbc",
   "metadata": {},
   "outputs": [],
   "source": [
    "# Randomly sample same proportion of sequences. \n",
    "seq = sequences['seq']\n",
    "labels = sequences['labels']\n",
    "\n",
    "# Convert labels to boolean\n",
    "labels[labels == 'negative'] = False\n",
    "labels[labels == 'positive'] = True\n",
    "# print(labels.value_counts())\n",
    "\n",
    "sampled_seqs, sampled_labels = preprocess.sample_seqs(list(seq), list(labels))"
   ]
  },
  {
   "cell_type": "markdown",
   "id": "901607bd",
   "metadata": {},
   "source": [
    "Finally, I one-hot encode my sampled sequence matrix for the autoencoder using the one_hot_encode_seqs() function constructed in preprocess.py. "
   ]
  },
  {
   "cell_type": "code",
   "execution_count": 20,
   "id": "67c89367",
   "metadata": {},
   "outputs": [],
   "source": [
    "one_hot_encode_matrix = [preprocess.one_hot_encode_seqs(seq) for seq in sampled_seqs]\n",
    "one_hot_encode_matrix = np.vstack(one_hot_encode_matrix)"
   ]
  },
  {
   "cell_type": "markdown",
   "id": "5d3d3e05",
   "metadata": {},
   "source": [
    "### Autoencoder construction for neural network\n",
    "\n",
    "Now, we will set up our autoencoder for classifying TF binding sites. Because we have sequences of length 17, and our one-hot encoded matrix adds 4 positions for each possible nucleotide, we have 68 possible features - one for each possible nucleotide. "
   ]
  },
  {
   "cell_type": "markdown",
   "id": "ce591474",
   "metadata": {},
   "source": [
    "#### First, let's normalize the one-hot encoded matrix. "
   ]
  },
  {
   "cell_type": "code",
   "execution_count": 21,
   "id": "0bcca13c",
   "metadata": {},
   "outputs": [],
   "source": [
    "# Normalize the data\n",
    "scaler = MinMaxScaler()\n",
    "X = scaler.fit_transform(one_hot_encode_matrix)"
   ]
  },
  {
   "cell_type": "markdown",
   "id": "3b3c70d5",
   "metadata": {},
   "source": [
    "For this autoencoder, I chose to have 68 neurons in my input layer, 17 neurons in my hidden layer, and 68 on the output layer. This is because the input matrix has 68 features - 17 is length of your sequences, and 68 = 17 * 4 nucleotides (each space represents a possible nucleotide (after one hot encoding). I use my activation function as sigmoid for both layers here, loss function as MSE. When I increase the learning rate (anything above 0.05, the training loss is MUCH smaller, but the gap between the training loss and validation loss increases. Moreover, as I increase number of epochs at a higher learning rate, the validation loss increases. As a result, I keep the learning rate on the lower end (0.01). To compensate, I have a larger number of epochs (6000). This still isn't perfect, as the gap between training and validation loss remains, especially as the number of epochs increase. "
   ]
  },
  {
   "cell_type": "code",
   "execution_count": 71,
   "id": "6572f148",
   "metadata": {},
   "outputs": [
    {
     "data": {
      "text/plain": [
       "[<matplotlib.lines.Line2D at 0x16d8971d0>]"
      ]
     },
     "execution_count": 71,
     "metadata": {},
     "output_type": "execute_result"
    },
    {
     "data": {
      "image/png": "[encoded data removed]",
      "text/plain": [
       "<Figure size 640x480 with 1 Axes>"
      ]
     },
     "metadata": {},
     "output_type": "display_data"
    }
   ],
   "source": [
    "# Split the data into training and testing sets\n",
    "X_train, X_test, _, _ = train_test_split(X, X, test_size=0.2, random_state=42)\n",
    "\n",
    "# Define and train the autoencoder\n",
    "autoencoder = nn.NeuralNetwork(\n",
    "    nn_arch=[{'input_dim': 68, 'output_dim': 17, 'activation': '_sigmoid'},\n",
    "             {'input_dim': 17, 'output_dim': 68, 'activation': '_sigmoid'}],\n",
    "    lr=0.01,\n",
    "    seed=42,\n",
    "    batch_size=32,\n",
    "    epochs=6000,\n",
    "    loss_function='_mean_squared_error'\n",
    ")\n",
    "\n",
    "per_epoch_loss_train, per_epoch_loss_validation = autoencoder.fit(X_train, X_train, X_test, X_test)\n",
    "\n",
    "loss_df = pd.DataFrame(per_epoch_loss_train)\n",
    "loss_df = loss_df.rename({0: 'loss_train'}, axis='columns')\n",
    "loss_df['loss_validation'] = per_epoch_loss_validation\n",
    "loss_df['epochs'] = loss_df.index + 1\n",
    "\n",
    "plot(loss_df['epochs'], loss_df['loss_train'])\n",
    "plot(loss_df['epochs'], loss_df['loss_validation'])"
   ]
  },
  {
   "cell_type": "markdown",
   "id": "78204fa0",
   "metadata": {},
   "source": [
    "I compute validation accuracy as the number of correct predictions (where predicted nucleotids are equal to true nucleotides) divided by the number of sequences. My hyperparameters yield a validation accuracy of 80%. "
   ]
  },
  {
   "cell_type": "code",
   "execution_count": 72,
   "id": "1123b0ce",
   "metadata": {},
   "outputs": [
    {
     "name": "stdout",
     "output_type": "stream",
     "text": [
      "Validation Accuracy:  0.8\n"
     ]
    }
   ],
   "source": [
    "prediction = autoencoder.predict(X_test)\n",
    "\n",
    "prediction_label = np.round(prediction, 0) \n",
    "\n",
    "predicted_indices = np.argmax(prediction_label, axis=1)\n",
    "true_indices = np.argmax(X_test, axis=1)\n",
    "\n",
    "correct_predictions = np.sum(predicted_indices == true_indices)\n",
    "\n",
    "# Compute validation accuracy\n",
    "validation_accuracy = correct_predictions / len(true_indices)\n",
    "print(\"Validation Accuracy: \", validation_accuracy)"
   ]
  }
 ],
 "metadata": {
  "kernelspec": {
   "display_name": "Python 3 (ipykernel)",
   "language": "python",
   "name": "python3"
  },
  "language_info": {
   "codemirror_mode": {
    "name": "ipython",
    "version": 3
   },
   "file_extension": ".py",
   "mimetype": "text/x-python",
   "name": "python",
   "nbconvert_exporter": "python",
   "pygments_lexer": "ipython3",
   "version": "3.11.5"
  }
 },
 "nbformat": 4,
 "nbformat_minor": 5
}
